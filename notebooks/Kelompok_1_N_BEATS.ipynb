{
  "nbformat": 4,
  "nbformat_minor": 0,
  "metadata": {
    "colab": {
      "provenance": []
    },
    "kernelspec": {
      "name": "python3",
      "display_name": "Python 3"
    },
    "language_info": {
      "name": "python"
    }
  },
  "cells": [
    {
      "cell_type": "markdown",
      "source": [
        "# Import Dependencies"
      ],
      "metadata": {
        "id": "EF10wQ3U5shj"
      }
    },
    {
      "cell_type": "code",
      "source": [
        "from n_beats import NBeatsNet, EarlyStopping\n",
        "\n",
        "import pandas as pd\n",
        "import numpy as np\n",
        "import matplotlib.pyplot as plt\n",
        "import seaborn as sns\n",
        "from tqdm import tqdm\n",
        "\n",
        "from sklearn.model_selection import train_test_split\n",
        "from sklearn.metrics import mean_absolute_percentage_error\n",
        "\n",
        "import torch\n",
        "from torch import nn, optim\n",
        "from torch.utils.data import Dataset, DataLoader\n",
        "\n",
        "device = 'cuda' if torch.cuda.is_available() else 'cpu'\n",
        "device"
      ],
      "metadata": {
        "colab": {
          "base_uri": "https://localhost:8080/",
          "height": 35
        },
        "id": "_uK9Uim-5r0c",
        "outputId": "b4d56fc5-cd87-4998-8c9a-3044806f6b43"
      },
      "execution_count": 41,
      "outputs": [
        {
          "output_type": "execute_result",
          "data": {
            "text/plain": [
              "'cpu'"
            ],
            "application/vnd.google.colaboratory.intrinsic+json": {
              "type": "string"
            }
          },
          "metadata": {},
          "execution_count": 41
        }
      ]
    },
    {
      "cell_type": "markdown",
      "source": [
        "# Data Preparation"
      ],
      "metadata": {
        "id": "GikTRg4Z6BD3"
      }
    },
    {
      "cell_type": "code",
      "execution_count": 3,
      "metadata": {
        "colab": {
          "base_uri": "https://localhost:8080/",
          "height": 206
        },
        "id": "3fBlUliR5n7i",
        "outputId": "17bbeb25-2f38-49ff-d574-c22842705219"
      },
      "outputs": [
        {
          "output_type": "execute_result",
          "data": {
            "text/plain": [
              "         Date        Close     Volume\n",
              "0  2023-10-09   973.590942   22298500\n",
              "1  2023-10-10  1213.244019   13625200\n",
              "2  2023-10-11  1512.810547   38431400\n",
              "3  2023-10-12  1887.268555  219262300\n",
              "4  2023-10-13  2356.589111   39504100"
            ],
            "text/html": [
              "\n",
              "  <div id=\"df-0d59baa2-d5ce-4733-b6df-69987c3af77e\" class=\"colab-df-container\">\n",
              "    <div>\n",
              "<style scoped>\n",
              "    .dataframe tbody tr th:only-of-type {\n",
              "        vertical-align: middle;\n",
              "    }\n",
              "\n",
              "    .dataframe tbody tr th {\n",
              "        vertical-align: top;\n",
              "    }\n",
              "\n",
              "    .dataframe thead th {\n",
              "        text-align: right;\n",
              "    }\n",
              "</style>\n",
              "<table border=\"1\" class=\"dataframe\">\n",
              "  <thead>\n",
              "    <tr style=\"text-align: right;\">\n",
              "      <th></th>\n",
              "      <th>Date</th>\n",
              "      <th>Close</th>\n",
              "      <th>Volume</th>\n",
              "    </tr>\n",
              "  </thead>\n",
              "  <tbody>\n",
              "    <tr>\n",
              "      <th>0</th>\n",
              "      <td>2023-10-09</td>\n",
              "      <td>973.590942</td>\n",
              "      <td>22298500</td>\n",
              "    </tr>\n",
              "    <tr>\n",
              "      <th>1</th>\n",
              "      <td>2023-10-10</td>\n",
              "      <td>1213.244019</td>\n",
              "      <td>13625200</td>\n",
              "    </tr>\n",
              "    <tr>\n",
              "      <th>2</th>\n",
              "      <td>2023-10-11</td>\n",
              "      <td>1512.810547</td>\n",
              "      <td>38431400</td>\n",
              "    </tr>\n",
              "    <tr>\n",
              "      <th>3</th>\n",
              "      <td>2023-10-12</td>\n",
              "      <td>1887.268555</td>\n",
              "      <td>219262300</td>\n",
              "    </tr>\n",
              "    <tr>\n",
              "      <th>4</th>\n",
              "      <td>2023-10-13</td>\n",
              "      <td>2356.589111</td>\n",
              "      <td>39504100</td>\n",
              "    </tr>\n",
              "  </tbody>\n",
              "</table>\n",
              "</div>\n",
              "    <div class=\"colab-df-buttons\">\n",
              "\n",
              "  <div class=\"colab-df-container\">\n",
              "    <button class=\"colab-df-convert\" onclick=\"convertToInteractive('df-0d59baa2-d5ce-4733-b6df-69987c3af77e')\"\n",
              "            title=\"Convert this dataframe to an interactive table.\"\n",
              "            style=\"display:none;\">\n",
              "\n",
              "  <svg xmlns=\"http://www.w3.org/2000/svg\" height=\"24px\" viewBox=\"0 -960 960 960\">\n",
              "    <path d=\"M120-120v-720h720v720H120Zm60-500h600v-160H180v160Zm220 220h160v-160H400v160Zm0 220h160v-160H400v160ZM180-400h160v-160H180v160Zm440 0h160v-160H620v160ZM180-180h160v-160H180v160Zm440 0h160v-160H620v160Z\"/>\n",
              "  </svg>\n",
              "    </button>\n",
              "\n",
              "  <style>\n",
              "    .colab-df-container {\n",
              "      display:flex;\n",
              "      gap: 12px;\n",
              "    }\n",
              "\n",
              "    .colab-df-convert {\n",
              "      background-color: #E8F0FE;\n",
              "      border: none;\n",
              "      border-radius: 50%;\n",
              "      cursor: pointer;\n",
              "      display: none;\n",
              "      fill: #1967D2;\n",
              "      height: 32px;\n",
              "      padding: 0 0 0 0;\n",
              "      width: 32px;\n",
              "    }\n",
              "\n",
              "    .colab-df-convert:hover {\n",
              "      background-color: #E2EBFA;\n",
              "      box-shadow: 0px 1px 2px rgba(60, 64, 67, 0.3), 0px 1px 3px 1px rgba(60, 64, 67, 0.15);\n",
              "      fill: #174EA6;\n",
              "    }\n",
              "\n",
              "    .colab-df-buttons div {\n",
              "      margin-bottom: 4px;\n",
              "    }\n",
              "\n",
              "    [theme=dark] .colab-df-convert {\n",
              "      background-color: #3B4455;\n",
              "      fill: #D2E3FC;\n",
              "    }\n",
              "\n",
              "    [theme=dark] .colab-df-convert:hover {\n",
              "      background-color: #434B5C;\n",
              "      box-shadow: 0px 1px 3px 1px rgba(0, 0, 0, 0.15);\n",
              "      filter: drop-shadow(0px 1px 2px rgba(0, 0, 0, 0.3));\n",
              "      fill: #FFFFFF;\n",
              "    }\n",
              "  </style>\n",
              "\n",
              "    <script>\n",
              "      const buttonEl =\n",
              "        document.querySelector('#df-0d59baa2-d5ce-4733-b6df-69987c3af77e button.colab-df-convert');\n",
              "      buttonEl.style.display =\n",
              "        google.colab.kernel.accessAllowed ? 'block' : 'none';\n",
              "\n",
              "      async function convertToInteractive(key) {\n",
              "        const element = document.querySelector('#df-0d59baa2-d5ce-4733-b6df-69987c3af77e');\n",
              "        const dataTable =\n",
              "          await google.colab.kernel.invokeFunction('convertToInteractive',\n",
              "                                                    [key], {});\n",
              "        if (!dataTable) return;\n",
              "\n",
              "        const docLinkHtml = 'Like what you see? Visit the ' +\n",
              "          '<a target=\"_blank\" href=https://colab.research.google.com/notebooks/data_table.ipynb>data table notebook</a>'\n",
              "          + ' to learn more about interactive tables.';\n",
              "        element.innerHTML = '';\n",
              "        dataTable['output_type'] = 'display_data';\n",
              "        await google.colab.output.renderOutput(dataTable, element);\n",
              "        const docLink = document.createElement('div');\n",
              "        docLink.innerHTML = docLinkHtml;\n",
              "        element.appendChild(docLink);\n",
              "      }\n",
              "    </script>\n",
              "  </div>\n",
              "\n",
              "\n",
              "    <div id=\"df-c1ca0b78-1738-4252-93d3-3f8fee5da581\">\n",
              "      <button class=\"colab-df-quickchart\" onclick=\"quickchart('df-c1ca0b78-1738-4252-93d3-3f8fee5da581')\"\n",
              "                title=\"Suggest charts\"\n",
              "                style=\"display:none;\">\n",
              "\n",
              "<svg xmlns=\"http://www.w3.org/2000/svg\" height=\"24px\"viewBox=\"0 0 24 24\"\n",
              "     width=\"24px\">\n",
              "    <g>\n",
              "        <path d=\"M19 3H5c-1.1 0-2 .9-2 2v14c0 1.1.9 2 2 2h14c1.1 0 2-.9 2-2V5c0-1.1-.9-2-2-2zM9 17H7v-7h2v7zm4 0h-2V7h2v10zm4 0h-2v-4h2v4z\"/>\n",
              "    </g>\n",
              "</svg>\n",
              "      </button>\n",
              "\n",
              "<style>\n",
              "  .colab-df-quickchart {\n",
              "      --bg-color: #E8F0FE;\n",
              "      --fill-color: #1967D2;\n",
              "      --hover-bg-color: #E2EBFA;\n",
              "      --hover-fill-color: #174EA6;\n",
              "      --disabled-fill-color: #AAA;\n",
              "      --disabled-bg-color: #DDD;\n",
              "  }\n",
              "\n",
              "  [theme=dark] .colab-df-quickchart {\n",
              "      --bg-color: #3B4455;\n",
              "      --fill-color: #D2E3FC;\n",
              "      --hover-bg-color: #434B5C;\n",
              "      --hover-fill-color: #FFFFFF;\n",
              "      --disabled-bg-color: #3B4455;\n",
              "      --disabled-fill-color: #666;\n",
              "  }\n",
              "\n",
              "  .colab-df-quickchart {\n",
              "    background-color: var(--bg-color);\n",
              "    border: none;\n",
              "    border-radius: 50%;\n",
              "    cursor: pointer;\n",
              "    display: none;\n",
              "    fill: var(--fill-color);\n",
              "    height: 32px;\n",
              "    padding: 0;\n",
              "    width: 32px;\n",
              "  }\n",
              "\n",
              "  .colab-df-quickchart:hover {\n",
              "    background-color: var(--hover-bg-color);\n",
              "    box-shadow: 0 1px 2px rgba(60, 64, 67, 0.3), 0 1px 3px 1px rgba(60, 64, 67, 0.15);\n",
              "    fill: var(--button-hover-fill-color);\n",
              "  }\n",
              "\n",
              "  .colab-df-quickchart-complete:disabled,\n",
              "  .colab-df-quickchart-complete:disabled:hover {\n",
              "    background-color: var(--disabled-bg-color);\n",
              "    fill: var(--disabled-fill-color);\n",
              "    box-shadow: none;\n",
              "  }\n",
              "\n",
              "  .colab-df-spinner {\n",
              "    border: 2px solid var(--fill-color);\n",
              "    border-color: transparent;\n",
              "    border-bottom-color: var(--fill-color);\n",
              "    animation:\n",
              "      spin 1s steps(1) infinite;\n",
              "  }\n",
              "\n",
              "  @keyframes spin {\n",
              "    0% {\n",
              "      border-color: transparent;\n",
              "      border-bottom-color: var(--fill-color);\n",
              "      border-left-color: var(--fill-color);\n",
              "    }\n",
              "    20% {\n",
              "      border-color: transparent;\n",
              "      border-left-color: var(--fill-color);\n",
              "      border-top-color: var(--fill-color);\n",
              "    }\n",
              "    30% {\n",
              "      border-color: transparent;\n",
              "      border-left-color: var(--fill-color);\n",
              "      border-top-color: var(--fill-color);\n",
              "      border-right-color: var(--fill-color);\n",
              "    }\n",
              "    40% {\n",
              "      border-color: transparent;\n",
              "      border-right-color: var(--fill-color);\n",
              "      border-top-color: var(--fill-color);\n",
              "    }\n",
              "    60% {\n",
              "      border-color: transparent;\n",
              "      border-right-color: var(--fill-color);\n",
              "    }\n",
              "    80% {\n",
              "      border-color: transparent;\n",
              "      border-right-color: var(--fill-color);\n",
              "      border-bottom-color: var(--fill-color);\n",
              "    }\n",
              "    90% {\n",
              "      border-color: transparent;\n",
              "      border-bottom-color: var(--fill-color);\n",
              "    }\n",
              "  }\n",
              "</style>\n",
              "\n",
              "      <script>\n",
              "        async function quickchart(key) {\n",
              "          const quickchartButtonEl =\n",
              "            document.querySelector('#' + key + ' button');\n",
              "          quickchartButtonEl.disabled = true;  // To prevent multiple clicks.\n",
              "          quickchartButtonEl.classList.add('colab-df-spinner');\n",
              "          try {\n",
              "            const charts = await google.colab.kernel.invokeFunction(\n",
              "                'suggestCharts', [key], {});\n",
              "          } catch (error) {\n",
              "            console.error('Error during call to suggestCharts:', error);\n",
              "          }\n",
              "          quickchartButtonEl.classList.remove('colab-df-spinner');\n",
              "          quickchartButtonEl.classList.add('colab-df-quickchart-complete');\n",
              "        }\n",
              "        (() => {\n",
              "          let quickchartButtonEl =\n",
              "            document.querySelector('#df-c1ca0b78-1738-4252-93d3-3f8fee5da581 button');\n",
              "          quickchartButtonEl.style.display =\n",
              "            google.colab.kernel.accessAllowed ? 'block' : 'none';\n",
              "        })();\n",
              "      </script>\n",
              "    </div>\n",
              "\n",
              "    </div>\n",
              "  </div>\n"
            ],
            "application/vnd.google.colaboratory.intrinsic+json": {
              "type": "dataframe",
              "variable_name": "df",
              "summary": "{\n  \"name\": \"df\",\n  \"rows\": 445,\n  \"fields\": [\n    {\n      \"column\": \"Date\",\n      \"properties\": {\n        \"dtype\": \"object\",\n        \"num_unique_values\": 445,\n        \"samples\": [\n          \"2024-12-12\",\n          \"2025-04-15\",\n          \"2024-04-02\"\n        ],\n        \"semantic_type\": \"\",\n        \"description\": \"\"\n      }\n    },\n    {\n      \"column\": \"Close\",\n      \"properties\": {\n        \"dtype\": \"number\",\n        \"std\": 1873.4893976053706,\n        \"min\": 973.5909423828124,\n        \"max\": 11894.640625,\n        \"num_unique_values\": 303,\n        \"samples\": [\n          6746.9599609375,\n          8850.0,\n          6694.94970703125\n        ],\n        \"semantic_type\": \"\",\n        \"description\": \"\"\n      }\n    },\n    {\n      \"column\": \"Volume\",\n      \"properties\": {\n        \"dtype\": \"number\",\n        \"std\": 37915769,\n        \"min\": 0,\n        \"max\": 467025900,\n        \"num_unique_values\": 439,\n        \"samples\": [\n          10506200,\n          11020900,\n          23613500\n        ],\n        \"semantic_type\": \"\",\n        \"description\": \"\"\n      }\n    }\n  ]\n}"
            }
          },
          "metadata": {},
          "execution_count": 3
        }
      ],
      "source": [
        "df = pd.read_csv('/content/Data MPDW Kelompok 1.csv')\n",
        "df.head()"
      ]
    },
    {
      "cell_type": "markdown",
      "source": [
        "## Data Cleaning"
      ],
      "metadata": {
        "id": "Gznn-v28697v"
      }
    },
    {
      "cell_type": "code",
      "source": [],
      "metadata": {
        "id": "irHtyxcs7AfX"
      },
      "execution_count": null,
      "outputs": []
    },
    {
      "cell_type": "markdown",
      "source": [
        "## Dataset Splitting"
      ],
      "metadata": {
        "id": "g-dTpCYN7-iD"
      }
    },
    {
      "cell_type": "code",
      "source": [
        "df_train, df_val = train_test_split(df, test_size=0.2, shuffle=False, random_state=42)\n",
        "df_train.shape, df_val.shape"
      ],
      "metadata": {
        "colab": {
          "base_uri": "https://localhost:8080/"
        },
        "id": "BIM4HeJU8Avm",
        "outputId": "37e90590-e2ab-499b-aee7-d72a332f3cca"
      },
      "execution_count": 34,
      "outputs": [
        {
          "output_type": "execute_result",
          "data": {
            "text/plain": [
              "((356, 3), (89, 3))"
            ]
          },
          "metadata": {},
          "execution_count": 34
        }
      ]
    },
    {
      "cell_type": "markdown",
      "source": [
        "## Data Visualization"
      ],
      "metadata": {
        "id": "CHm3MPQ265R3"
      }
    },
    {
      "cell_type": "code",
      "source": [],
      "metadata": {
        "id": "mMiPG6hq69G-"
      },
      "execution_count": null,
      "outputs": []
    },
    {
      "cell_type": "markdown",
      "source": [
        "# Dataset & Dataloader"
      ],
      "metadata": {
        "id": "wION27Wt5vE6"
      }
    },
    {
      "cell_type": "code",
      "source": [
        "torch.tensor()"
      ],
      "metadata": {
        "id": "RRNWmTtT8oCa"
      },
      "execution_count": null,
      "outputs": []
    },
    {
      "cell_type": "code",
      "source": [
        "class TimeSeriesDataset4NBEATS(Dataset):\n",
        "  def __init__(self, data, backcast_length, forecast_length):\n",
        "    self.data = data\n",
        "    self.backcast_length = backcast_length\n",
        "    self.forecast_length = forecast_length\n",
        "\n",
        "  def __len__(self):\n",
        "    return len(self.data) - self.backcast_length - self.forecast_length + 1\n",
        "\n",
        "  def __getitem__(self, index):\n",
        "    x = self.data[index : index + self.backcast_length]\n",
        "    y = self.data[index + self.backcast_length : index + self.backcast_length + self.forecast_length]\n",
        "    return x, y"
      ],
      "metadata": {
        "id": "VHoz0IXl5wle"
      },
      "execution_count": 30,
      "outputs": []
    },
    {
      "cell_type": "code",
      "source": [
        "BATCH_SIZE = 32\n",
        "BACKCAST_LENGTH = 30\n",
        "FORECAST_LENGTH = 7\n",
        "\n",
        "train_set = TimeSeriesDataset4NBEATS(torch.tensor(df_train.Close.values, dtype=torch.float32), BACKCAST_LENGTH, FORECAST_LENGTH)\n",
        "trainloader = DataLoader(train_set, BATCH_SIZE, shuffle=False)\n",
        "\n",
        "val_set = TimeSeriesDataset4NBEATS(torch.tensor(df_val.Close.values, dtype=torch.float32), BACKCAST_LENGTH, FORECAST_LENGTH)\n",
        "valloader = DataLoader(val_set, BATCH_SIZE, shuffle=False)"
      ],
      "metadata": {
        "id": "0z8bwOE17vbk"
      },
      "execution_count": 37,
      "outputs": []
    },
    {
      "cell_type": "code",
      "source": [
        "next(iter(trainloader))[0][0], next(iter(trainloader))[1][0]"
      ],
      "metadata": {
        "colab": {
          "base_uri": "https://localhost:8080/"
        },
        "id": "A1sibehu76dB",
        "outputId": "d8ac7ca4-29dd-4222-f19b-6ef932b3401c"
      },
      "execution_count": 36,
      "outputs": [
        {
          "output_type": "execute_result",
          "data": {
            "text/plain": [
              "(tensor([ 973.5909, 1213.2440, 1512.8105, 1887.2686, 2356.5891, 2746.0256,\n",
              "         3425.0430, 3784.5225, 4044.1467, 4024.1758, 3734.5947, 3794.5081,\n",
              "         3814.4792, 3794.5081, 4054.1326, 4493.4961, 4573.3804, 4283.7998,\n",
              "         4044.1467, 4134.0171, 4283.7998, 4383.6553, 4393.6406, 5217.4487,\n",
              "         5217.4487, 5292.3403, 5367.2319, 5716.7261, 5691.7622, 6315.8589]),\n",
              " tensor([6790.1724, 6265.9312, 5641.8345, 6420.1572, 6070.4214, 5945.5151,\n",
              "         6245.2891]))"
            ]
          },
          "metadata": {},
          "execution_count": 36
        }
      ]
    },
    {
      "cell_type": "markdown",
      "source": [
        "# Training Preparation"
      ],
      "metadata": {
        "id": "Q-7DKfJW9762"
      }
    },
    {
      "cell_type": "code",
      "source": [
        "model = NBeatsNet(\n",
        "    device=device,\n",
        "    stack_types=(NBeatsNet.GENERIC_BLOCK, NBeatsNet.GENERIC_BLOCK),\n",
        "    forecast_length=FORECAST_LENGTH,\n",
        "    backcast_length=BACKCAST_LENGTH,\n",
        "    hidden_layer_units=128\n",
        ").to(device)\n",
        "\n",
        "criterion = nn.MSELoss()\n",
        "optimizer = optim.Adam(model.parameters())"
      ],
      "metadata": {
        "colab": {
          "base_uri": "https://localhost:8080/"
        },
        "id": "eKL26mAH-nRb",
        "outputId": "b18d55e2-09e0-4f50-b780-88af81362477"
      },
      "execution_count": 29,
      "outputs": [
        {
          "output_type": "stream",
          "name": "stdout",
          "text": [
            "| N-Beats\n",
            "| --  Stack Generic (#0) (share_weights_in_stack=False)\n",
            "     | -- GenericBlock(units=128, thetas_dim=4, backcast_length=30, forecast_length=7, share_thetas=False) at @134660556421216\n",
            "     | -- GenericBlock(units=128, thetas_dim=4, backcast_length=30, forecast_length=7, share_thetas=False) at @134660377668416\n",
            "     | -- GenericBlock(units=128, thetas_dim=4, backcast_length=30, forecast_length=7, share_thetas=False) at @134660377669952\n",
            "| --  Stack Generic (#1) (share_weights_in_stack=False)\n",
            "     | -- GenericBlock(units=128, thetas_dim=8, backcast_length=30, forecast_length=7, share_thetas=False) at @134660397490464\n",
            "     | -- GenericBlock(units=128, thetas_dim=8, backcast_length=30, forecast_length=7, share_thetas=False) at @134660377673264\n",
            "     | -- GenericBlock(units=128, thetas_dim=8, backcast_length=30, forecast_length=7, share_thetas=False) at @134660377673312\n"
          ]
        }
      ]
    },
    {
      "cell_type": "code",
      "source": [
        "scheduler = torch.optim.lr_scheduler.ReduceLROnPlateau(optimizer, 'min', patience=3, factor=0.1)\n",
        "early_stopping = EarlyStopping(patience=10, path='best_model.pt')"
      ],
      "metadata": {
        "id": "rx7_dgUlB_Mw"
      },
      "execution_count": null,
      "outputs": []
    },
    {
      "cell_type": "code",
      "source": [
        "def loop_fn(mode, dataset, dataloader, model, criterion, optimizer, device):\n",
        "  if mode == \"train\":\n",
        "    model.train()\n",
        "    context_manager = torch.enable_grad()\n",
        "  elif mode == \"test\":\n",
        "    model.eval()\n",
        "    context_manager = torch.inference_mode()\n",
        "\n",
        "  preds, targets = [], []\n",
        "  with context_manager:\n",
        "    cost = 0\n",
        "    for feature, target in tqdm(dataloader, desc=mode.title()):\n",
        "      feature, target = feature.to(device, non_blocking=True), target.to(device, non_blocking=True)\n",
        "      _, output = model(feature)\n",
        "      loss = criterion(output, target)\n",
        "\n",
        "      if mode == \"train\":\n",
        "        loss.backward()\n",
        "        optimizer.step()\n",
        "        optimizer.zero_grad()\n",
        "\n",
        "      cost += loss.item() * feature.shape[0]\n",
        "      preds.extend(output.detach().cpu().numpy())\n",
        "      targets.extend(target.detach().cpu().numpy())\n",
        "\n",
        "    cost /= len(dataset)\n",
        "    mape = mean_absolute_percentage_error(targets, preds)\n",
        "    return cost, mape\n",
        "\n",
        "epoch = 0\n",
        "while True:\n",
        "  epoch += 1\n",
        "  print(f\"\\n--- Epoch {epoch} ---\")\n",
        "\n",
        "  train_cost, train_score = loop_fn(\"train\", train_set, trainloader, model, criterion, optimizer, device)\n",
        "  val_cost, val_score = loop_fn(\"test\", val_set, valloader, model, criterion, optimizer, device)\n",
        "\n",
        "  print(f\"Epoch {epoch}: Train Cost: {train_cost:.6f}, MAPE: {train_score:.4f} | Validation Cost: {val_cost:.6f}, MAPE: {val_score:.4f}\")\n",
        "\n",
        "  scheduler.step(val_cost)\n",
        "\n",
        "  early_stopping(val_cost, model)\n",
        "  if early_stopping.early_stop:\n",
        "    print(\"Early stopping triggered\")\n",
        "    break\n",
        "\n",
        "print(\"Loading best model weights...\")\n",
        "model.load_state_dict(torch.load('best_model.pt'))"
      ],
      "metadata": {
        "id": "MicJofY-AVY9"
      },
      "execution_count": null,
      "outputs": []
    },
    {
      "cell_type": "markdown",
      "source": [
        "# Model Evaluation"
      ],
      "metadata": {
        "id": "xoAH8QDGCYBW"
      }
    },
    {
      "cell_type": "code",
      "source": [],
      "metadata": {
        "id": "NlQPF2o7En2j"
      },
      "execution_count": null,
      "outputs": []
    }
  ]
}